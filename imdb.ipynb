{
 "cells": [
  {
   "cell_type": "code",
   "execution_count": 36,
   "metadata": {},
   "outputs": [],
   "source": [
    "import requests\n",
    "from bs4 import BeautifulSoup"
   ]
  },
  {
   "cell_type": "code",
   "execution_count": 37,
   "metadata": {},
   "outputs": [],
   "source": [
    "url='https://www.imdb.com/chart/top/'"
   ]
  },
  {
   "cell_type": "code",
   "execution_count": 43,
   "metadata": {},
   "outputs": [],
   "source": [
    "headers = {\n",
    "    \"User-Agent\": \"Mozilla/5.0 (Windows NT 10.0; Win64; x64) AppleWebKit/537.36 (KHTML, like Gecko) Chrome/58.0.3029.110 Safari/537.3\"\n",
    "}\n",
    "response=requests.get(url,headers=headers)\n",
    "content=response.content"
   ]
  },
  {
   "cell_type": "code",
   "execution_count": 44,
   "metadata": {},
   "outputs": [],
   "source": [
    "soup=BeautifulSoup(content,'html.parser')"
   ]
  },
  {
   "cell_type": "code",
   "execution_count": 59,
   "metadata": {},
   "outputs": [],
   "source": [
    "#hyper_l=soup.find_all('class':'ipc-title-link-wrapper','a')\n",
    "hyper_l=soup.find_all('a', class_='ipc-title-link-wrapper')"
   ]
  },
  {
   "cell_type": "code",
   "execution_count": 68,
   "metadata": {},
   "outputs": [],
   "source": [
    "href_list=[a.get('href') for a in hyper_l if str(a.get('href')).split('/')[1]!='chart' ] "
   ]
  },
  {
   "cell_type": "code",
   "execution_count": 77,
   "metadata": {},
   "outputs": [
    {
     "name": "stdout",
     "output_type": "stream",
     "text": [
      "1 https://www.imdb.com/title/tt0000001/\n"
     ]
    }
   ],
   "source": [
    "i=0\n",
    "for q in range(0,9):\n",
    "    for w in range(0,9):\n",
    "        for e in range(0,9):\n",
    "            for r in range(0,9):\n",
    "                for t in range(0,9):\n",
    "                    for y in range(0,9):\n",
    "                        for u in range(1,9):\n",
    "                            w_url='https://www.imdb.com/title/tt'+str(q)+str(w)+str(e)+str(r)+str(t)+str(y)+str(u)+'/'\n",
    "                            response=requests.get(url,headers=headers)\n",
    "                            content=response.content\n",
    "                            soup=BeautifulSoup(content)\n",
    "                            title=\n",
    "                            \n",
    "                            i=i+1\n",
    "                            print(i,w_url)\n",
    "                            break\n",
    "                        break\n",
    "                    break\n",
    "                break\n",
    "            break\n",
    "        break\n",
    "    break\n",
    "\n",
    "\n",
    "                        "
   ]
  }
 ],
 "metadata": {
  "kernelspec": {
   "display_name": "Python 3",
   "language": "python",
   "name": "python3"
  },
  "language_info": {
   "codemirror_mode": {
    "name": "ipython",
    "version": 3
   },
   "file_extension": ".py",
   "mimetype": "text/x-python",
   "name": "python",
   "nbconvert_exporter": "python",
   "pygments_lexer": "ipython3",
   "version": "3.11.4"
  },
  "orig_nbformat": 4
 },
 "nbformat": 4,
 "nbformat_minor": 2
}
