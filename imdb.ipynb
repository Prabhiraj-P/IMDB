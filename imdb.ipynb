{
 "cells": [
  {
   "cell_type": "code",
   "execution_count": 151,
   "metadata": {},
   "outputs": [],
   "source": [
    "import pandas as pd\n",
    "import requests\n",
    "from bs4 import BeautifulSoup"
   ]
  },
  {
   "cell_type": "code",
   "execution_count": 152,
   "metadata": {},
   "outputs": [],
   "source": [
    "headers = {\n",
    "    \"User-Agent\": \"Mozilla/5.0 (Windows NT 10.0; Win64; x64) AppleWebKit/537.36 (KHTML, like Gecko) Chrome/58.0.3029.110 Safari/537.3\"\n",
    "}"
   ]
  },
  {
   "cell_type": "code",
   "execution_count": 153,
   "metadata": {},
   "outputs": [],
   "source": [
    "path='imdb.csv'"
   ]
  },
  {
   "cell_type": "code",
   "execution_count": 154,
   "metadata": {},
   "outputs": [],
   "source": [
    "try:\n",
    "    load_df = pd.read_csv(path,sep=';')\n",
    "    where=load_df['Id'].iloc[-1]+1\n",
    "except:\n",
    "  where=1\n"
   ]
  },
  {
   "cell_type": "code",
   "execution_count": 155,
   "metadata": {},
   "outputs": [],
   "source": [
    "def keywords(id):\n",
    "    word=''\n",
    "    key_url='https://www.imdb.com/title/tt'+id+'/keywords/'\n",
    "    response_keyword=requests.get(key_url,headers=headers)\n",
    "    content_keyword=response_keyword.content\n",
    "    soup_keyword=BeautifulSoup(content_keyword,'html.parser')\n",
    "    keyword_elements=soup_keyword.find_all('a',class_='ipc-metadata-list-summary-item__t')\n",
    "    for element in keyword_elements:\n",
    "     word += ', ' + element.text\n",
    "    #print('keyword')\n",
    "    return word[2:len(word)]"
   ]
  },
  {
   "cell_type": "code",
   "execution_count": 267,
   "metadata": {},
   "outputs": [],
   "source": [
    "def release_info(soup):\n",
    "   date='NaN'\n",
    "   x= soup.find_all('li',class_='ipc-metadata-list__item ipc-metadata-list-item--link')\n",
    "   for r in x:\n",
    "      if 'Release date' in r.text:\n",
    "       date=r.text.replace('Release date','')\n",
    "       break\n",
    "   return date"
   ]
  },
  {
   "cell_type": "code",
   "execution_count": 158,
   "metadata": {},
   "outputs": [],
   "source": [
    "df={'Id':[],'Title':[],'Storyline':[],'Genres':[],'Director':[],'Date':[],'Runtime':[],'Rating':[],'Color':[],'Country':[],'keywords':[]}"
   ]
  },
  {
   "cell_type": "code",
   "execution_count": 159,
   "metadata": {},
   "outputs": [],
   "source": [
    "def country(soup):\n",
    "    r_items = soup.find_all('a', class_='ipc-metadata-list-item__list-content-item ipc-metadata-list-item__list-content-item--link')\n",
    "    inde=0\n",
    "    for r in r_items:\n",
    "  \n",
    "      if r.text == 'None':\n",
    "        country_name= r_items[inde-1].text\n",
    "        break\n",
    "      else:\n",
    "        country_name='NaN'\n",
    "      inde=inde+1\n",
    "    return country_name"
   ]
  },
  {
   "cell_type": "code",
   "execution_count": 160,
   "metadata": {},
   "outputs": [],
   "source": [
    "movie_genres = [\"Action\",\"Adventure\",\"Comedy\",\"Drama\",\"Horror\",\"Science Fiction (Sci-Fi)\",\"Fantasy\",\"Romance\",\"Mystery\",\"Crime\",\"Thriller\",\"Animation\",\"Musical\",\"War\",\"Western\",\"Biography\",\"Historical\",\n",
    "    \"Documentary\",\"Family\",\"Sports\",\"Superhero\",\"Musical Comedy\",\"Film Noir\",\"Romantic Comedy (Rom-Com)\",\"Fantasy Adventure\",\"Action Comedy\",\"Psychological Thriller\",\"Science Fantasy\",\n",
    "    \"Epic\",\"Post-Apocalyptic\",\"History\"]"
   ]
  },
  {
   "cell_type": "code",
   "execution_count": 161,
   "metadata": {},
   "outputs": [],
   "source": [
    "def genere_fun(soup):\n",
    " gen_list=' '\n",
    " try:\n",
    "  genres = soup.find_all('span', class_='ipc-chip__text')\n",
    "  for g in  genres:\n",
    "    if g.text in movie_genres:\n",
    "        gen_list=g.text+' '+gen_list\n",
    "  return gen_list \n",
    " except:\n",
    "  return 'NaN'\n",
    "    "
   ]
  },
  {
   "cell_type": "code",
   "execution_count": 233,
   "metadata": {},
   "outputs": [],
   "source": [
    "def runtime_(soup):\n",
    " runtime_test=soup.find_all('li',class_='ipc-metadata-list__item')\n",
    " color='NaN'\n",
    " runtime=\"NaN\"\n",
    " for i in runtime_test:\n",
    "    if 'Runtime' in i.text:\n",
    "     runtime=i.text.replace('Runtime','')   \n",
    "    if 'Color' in i.text:\n",
    "      color=i.text #.replace('Color',' ')\n",
    " return runtime,color"
   ]
  },
  {
   "cell_type": "code",
   "execution_count": 296,
   "metadata": {},
   "outputs": [
    {
     "name": "stdout",
     "output_type": "stream",
     "text": [
      "Adventure\n",
      "Comedy\n",
      "Fantasy\n",
      "Back to top\n",
      "https://www.imdb.com/title/tt1517268/ None\n",
      "Documentary\n",
      "Short\n",
      "Back to top\n",
      "https://www.imdb.com/title/tt1517267/ None\n",
      "Action\n",
      "Sci-Fi\n",
      "Thriller\n",
      "Back to top\n",
      "https://www.imdb.com/title/tt1517266/ None\n",
      "Documentary\n",
      "Back to top\n",
      "https://www.imdb.com/title/tt1517265/ None\n",
      "Back to top\n",
      "https://www.imdb.com/title/tt1517264/ None\n",
      "Music\n",
      "Back to top\n",
      "https://www.imdb.com/title/tt1517263/ None\n",
      "Comedy\n",
      "Drama\n",
      "Back to top\n",
      "https://www.imdb.com/title/tt1517262/ None\n",
      "Documentary\n",
      "Back to top\n",
      "https://www.imdb.com/title/tt1517261/ None\n",
      "Action\n",
      "Adventure\n",
      "Drama\n",
      "Back to top\n",
      "https://www.imdb.com/title/tt1517260/ None\n",
      "Documentary\n",
      "Back to top\n",
      "https://www.imdb.com/title/tt1517259/ None\n"
     ]
    }
   ],
   "source": [
    "# function to test all other function\n",
    "\n",
    "where =1517268\n",
    "for num in range(where,where-10,-1):\n",
    "  len_num=7-len(str(num))\n",
    "  id_='0'*len_num+str(num)\n",
    "  w_url='https://www.imdb.com/title/tt'+id_+'/'\n",
    "  response=requests.get(w_url,headers=headers)\n",
    "  content=response.content\n",
    "  soup=BeautifulSoup(content,'html.parser')\n",
    "  #print(w_url,keywords_(soup))\n",
    "\n",
    "  #break"
   ]
  },
  {
   "cell_type": "code",
   "execution_count": null,
   "metadata": {},
   "outputs": [],
   "source": [
    "%%time\n",
    "i=1\n",
    "start_time=time.time()\n",
    "for num in range(where,100000000):\n",
    "                            len_num=7-len(str(num))\n",
    "                            id_='0'*len_num+str(num)\n",
    "                            w_url='https://www.imdb.com/title/tt'+id_+'/'\n",
    "                            try:\n",
    "                              response=requests.get(w_url,headers=headers)\n",
    "                              content=response.content\n",
    "                              soup=BeautifulSoup(content,'html.parser')\n",
    "                              Title=soup.find('span',class_='sc-afe43def-1 fDTGTb').text\n",
    "                            except:\n",
    "                              print(i,w_url,'>> Error')\n",
    "                              continue\n",
    "                            print(i,w_url,'<< processing')\n",
    "                            Title=soup.find('span',class_='sc-afe43def-1 fDTGTb').text\n",
    "                            Director=soup.find_all('a',class_='ipc-metadata-list-item__list-content-item ipc-metadata-list-item__list-content-item--link')[0].text\n",
    "                            Date=release_info(soup)\n",
    "                            \n",
    "                            Runtime_,colr=runtime(id_)\n",
    "                            try:\n",
    "                             Rating=(soup.find_all('span',class_='sc-bde20123-1 iZlgcd')[0]).text\n",
    "                            except:\n",
    "                              Rating=\"NaN\"\n",
    "                            country_=country(soup)\n",
    "                            df['Country'].append(country_)\n",
    "                            key_words=keywords(str(id_))\n",
    "                            i=i+1\n",
    "                            df['Id'].append(id_)\n",
    "                            df['Link'].append(w_url)\n",
    "                            df['Genres'].append(genere_fun(soup))\n",
    "                            df['Title'].append(Title)\n",
    "                            df['Director'].append(Director)\n",
    "                            df['Date'].append(Date)\n",
    "                            df['Runtime'].append(Runtime_)\n",
    "                            df['Color'].append(colr)\n",
    "                            df['Rating'].append(Rating)\n",
    "                            df['keywords'].append(key_words)\n",
    "                            if i==100:\n",
    "                              try:\n",
    "                               main_df=pd.DataFrame(df)\n",
    "                               save_df=pd.concat([load_df, main_df], ignore_index=True)\n",
    "                               save_df.to_csv(path,index=False,sep=';',header=True)\n",
    "                               load_df = pd.read_csv(path,sep=';')\n",
    "                               print('>>',load_df.shape)\n",
    "                               df={'Id':[],'Link':[],'Title':[],'Storyline':[],'Director':[],'Date':[],'Runtime':[],'Rating':[],'Color':[],'Country':[],'keywords':[]}\n",
    "                               end_time=time.time()\n",
    "                               print('>>Time', (end_time-start_time)/100)\n",
    "                               start_time=time.time()\n",
    "                              except:\n",
    "                                main_df=pd.DataFrame(df)\n",
    "                                save_df=main_df\n",
    "                                save_df.to_csv(path,index=False,sep=';',header=True)\n",
    "                                load_df = pd.read_csv(path,sep=';')\n",
    "                                print('>>',load_df.shape)\n",
    "                                df={'Id':[],'Link':[],'Title':[],'Storyline':[],'Director':[],'Date':[],'Runtime':[],'Rating':[],'Color':[],'Country':[],'keywords':[]}\n",
    "                                print('File not found Solved')\n",
    "\n",
    "                              i=1\n",
    "                          "
   ]
  }
 ],
 "metadata": {
  "kernelspec": {
   "display_name": "Python 3",
   "language": "python",
   "name": "python3"
  },
  "language_info": {
   "codemirror_mode": {
    "name": "ipython",
    "version": 3
   },
   "file_extension": ".py",
   "mimetype": "text/x-python",
   "name": "python",
   "nbconvert_exporter": "python",
   "pygments_lexer": "ipython3",
   "version": "3.11.5"
  },
  "orig_nbformat": 4
 },
 "nbformat": 4,
 "nbformat_minor": 2
}
