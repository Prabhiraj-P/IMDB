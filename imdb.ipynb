{
 "cells": [
  {
   "cell_type": "code",
   "execution_count": 1,
   "metadata": {},
   "outputs": [],
   "source": [
    "import pandas as pd\n",
    "import requests\n",
    "from bs4 import BeautifulSoup"
   ]
  },
  {
   "cell_type": "code",
   "execution_count": 2,
   "metadata": {},
   "outputs": [],
   "source": [
    "headers = {\n",
    "    \"User-Agent\": \"Mozilla/5.0 (Windows NT 10.0; Win64; x64) AppleWebKit/537.36 (KHTML, like Gecko) Chrome/58.0.3029.110 Safari/537.3\"\n",
    "}"
   ]
  },
  {
   "cell_type": "code",
   "execution_count": 3,
   "metadata": {},
   "outputs": [],
   "source": [
    "path='imdb.csv'"
   ]
  },
  {
   "cell_type": "code",
   "execution_count": 4,
   "metadata": {},
   "outputs": [],
   "source": [
    "try:\n",
    "    load_df = pd.read_csv(path,sep=';')\n",
    "    where=load_df['Id'].iloc[-1]+1\n",
    "except:\n",
    "  where=1\n"
   ]
  },
  {
   "cell_type": "code",
   "execution_count": 5,
   "metadata": {},
   "outputs": [],
   "source": [
    "def keywords(id):\n",
    "    word=''\n",
    "    key_url='https://www.imdb.com/title/tt'+id+'/keywords/'\n",
    "    #https://www.imdb.com/title/tt'+id_+'/'\n",
    "    response_keyword=requests.get(key_url,headers=headers)\n",
    "    content_keyword=response_keyword.content\n",
    "    soup_keyword=BeautifulSoup(content_keyword,'html.parser')\n",
    "    keyword_elements=soup_keyword.find_all('a',class_='ipc-metadata-list-summary-item__t')\n",
    "    for element in keyword_elements:\n",
    "     word += ', ' + element.text\n",
    "    #print('keyword')\n",
    "    return word[2:len(word)]"
   ]
  },
  {
   "cell_type": "code",
   "execution_count": 6,
   "metadata": {},
   "outputs": [],
   "source": [
    "def release_info(id):\n",
    "    key_url='https://www.imdb.com/title/tt'+id+'/releaseinfo/'\n",
    "    #https://www.imdb.com/title/tt'+id_+'/'\n",
    "    response_release_info=requests.get(key_url,headers=headers)\n",
    "    content_release_info=response_release_info.content\n",
    "    soup_release_info=BeautifulSoup(content_release_info,'html.parser')\n",
    "    date=soup_release_info.find('span',class_='ipc-metadata-list-item__list-content-item')\n",
    "    try:\n",
    "       soup_release_info.find('article',class_='sc-8eb80a87-0 hQQXzj').text is not None\n",
    "      # print('release info')\n",
    "       return 'NaN'\n",
    "\n",
    "    except:\n",
    "       #print('release info')\n",
    "       return date.text\n",
    "\n",
    "    \n"
   ]
  },
  {
   "cell_type": "code",
   "execution_count": 7,
   "metadata": {},
   "outputs": [],
   "source": [
    "def runtime(id):\n",
    "    key_url='https://www.imdb.com/title/tt'+id+'/technical/'\n",
    "    #https://www.imdb.com/title/tt'+id_+'/'\n",
    "    response_runtime=requests.get(key_url,headers=headers)\n",
    "    content_runtime=response_runtime.content\n",
    "    soup_runtime=BeautifulSoup(content_runtime,'html.parser')\n",
    "    runtime=soup_runtime.find_all('span',class_='ipc-metadata-list-item__list-content-item--subText')\n",
    "    color=soup_runtime.find_all('a',class_='ipc-metadata-list-item__list-content-item ipc-metadata-list-item__list-content-item--link')\n",
    "    try:\n",
    "     return runtime[0].text,color[1].text\n",
    "    except:\n",
    "        return 'NaN',color[1].text\n",
    "           \n",
    " "
   ]
  },
  {
   "cell_type": "code",
   "execution_count": 124,
   "metadata": {},
   "outputs": [],
   "source": [
    "df={'Id':[],'Title':[],'Storyline':[],'Genres':[],'Director':[],'Date':[],'Runtime':[],'Rating':[],'Color':[],'Country':[],'keywords':[]}"
   ]
  },
  {
   "cell_type": "code",
   "execution_count": 9,
   "metadata": {},
   "outputs": [],
   "source": [
    "def country(soup):\n",
    "    r_items = soup.find_all('a', class_='ipc-metadata-list-item__list-content-item ipc-metadata-list-item__list-content-item--link')\n",
    "    inde=0\n",
    "    for r in r_items:\n",
    "  \n",
    "      if r.text == 'None':\n",
    "        country_name= r_items[inde-1].text\n",
    "        break\n",
    "      else:\n",
    "        country_name='NaN'\n",
    "      inde=inde+1\n",
    "    return country_name"
   ]
  },
  {
   "cell_type": "code",
   "execution_count": 125,
   "metadata": {},
   "outputs": [],
   "source": [
    "movie_genres = [\"Action\",\"Adventure\",\"Comedy\",\"Drama\",\"Horror\",\"Science Fiction (Sci-Fi)\",\"Fantasy\",\"Romance\",\"Mystery\",\"Crime\",\"Thriller\",\"Animation\",\"Musical\",\"War\",\"Western\",\"Biography\",\"Historical\",\n",
    "    \"Documentary\",\"Family\",\"Sports\",\"Superhero\",\"Musical Comedy\",\"Film Noir\",\"Romantic Comedy (Rom-Com)\",\"Fantasy Adventure\",\"Action Comedy\",\"Psychological Thriller\",\"Science Fantasy\",\n",
    "    \"Epic\",\"Post-Apocalyptic\",\"History\"]"
   ]
  },
  {
   "cell_type": "code",
   "execution_count": 119,
   "metadata": {},
   "outputs": [],
   "source": [
    "def genere_fun(soup):\n",
    " gen_list=' '\n",
    " try:\n",
    "  genres = soup.find_all('span', class_='ipc-chip__text')\n",
    "  for g in  genres:\n",
    "    if g.text in movie_genres:\n",
    "        gen_list=g.text+' '+gen_list\n",
    "  return gen_list \n",
    " except:\n",
    "  return 'NaN'\n",
    "    "
   ]
  },
  {
   "cell_type": "code",
   "execution_count": 123,
   "metadata": {},
   "outputs": [
    {
     "name": "stdout",
     "output_type": "stream",
     "text": [
      "Fantasy Comedy Adventure  \n"
     ]
    }
   ],
   "source": [
    "print(genere_fun(soup))"
   ]
  },
  {
   "cell_type": "code",
   "execution_count": null,
   "metadata": {},
   "outputs": [],
   "source": [
    "%%time\n",
    "i=1\n",
    "start_time=time.time()\n",
    "for num in range(where,100000000):\n",
    "                            len_num=7-len(str(num))\n",
    "                            id_='0'*len_num+str(num)\n",
    "                            w_url='https://www.imdb.com/title/tt'+id_+'/'\n",
    "                            try:\n",
    "                              response=requests.get(w_url,headers=headers)\n",
    "                              content=response.content\n",
    "                              soup=BeautifulSoup(content,'html.parser')\n",
    "                              Title=soup.find('span',class_='sc-afe43def-1 fDTGTb').text\n",
    "                            except:\n",
    "                              print(i,w_url,'>> Error')\n",
    "                              continue\n",
    "                            print(i,w_url,'<< processing')\n",
    "                            Title=soup.find('span',class_='sc-afe43def-1 fDTGTb').text\n",
    "                            try:\n",
    "                             storyline=soup.find_all('div',class_='ipc-html-content-inner-div')[2].text\n",
    "                            except:\n",
    "                              storyline='NaN'\n",
    "                            Director=soup.find_all('a',class_='ipc-metadata-list-item__list-content-item ipc-metadata-list-item__list-content-item--link')[0].text\n",
    "                            Date=release_info(id_)\n",
    "                            \n",
    "                            Runtime_,colr=runtime(id_)\n",
    "                            try:\n",
    "                             Rating=(soup.find_all('span',class_='sc-bde20123-1 iZlgcd')[0]).text\n",
    "                            except:\n",
    "                              Rating=\"NaN\"\n",
    "                            country_=country(soup)\n",
    "                            df['Country'].append(country_)\n",
    "                            key_words=keywords(str(id_))\n",
    "                            i=i+1\n",
    "                            df['Id'].append(id_)\n",
    "                            df['Link'].append(w_url)\n",
    "                            df['Genres'].append(genere_fun(soup))\n",
    "                            df['Title'].append(Title)\n",
    "                            df['Storyline'].append(storyline)\n",
    "                            df['Director'].append(Director)\n",
    "                            df['Date'].append(Date)\n",
    "                            df['Runtime'].append(Runtime_)\n",
    "                            df['Color'].append(colr)\n",
    "                            df['Rating'].append(Rating)\n",
    "                            df['keywords'].append(key_words)\n",
    "                            if i==100:\n",
    "                              try:\n",
    "                               main_df=pd.DataFrame(df)\n",
    "                               save_df=pd.concat([load_df, main_df], ignore_index=True)\n",
    "                               save_df.to_csv(path,index=False,sep=';',header=True)\n",
    "                               load_df = pd.read_csv(path,sep=';')\n",
    "                               print('>>',load_df.shape)\n",
    "                               df={'Id':[],'Link':[],'Title':[],'Storyline':[],'Director':[],'Date':[],'Runtime':[],'Rating':[],'Color':[],'Country':[],'keywords':[]}\n",
    "                               end_time=time.time()\n",
    "                               print('>>Time', (end_time-start_time)/100)\n",
    "                               start_time=time.time()\n",
    "                              except:\n",
    "                                main_df=pd.DataFrame(df)\n",
    "                                save_df=main_df\n",
    "                                save_df.to_csv(path,index=False,sep=';',header=True)\n",
    "                                load_df = pd.read_csv(path,sep=';')\n",
    "                                print('>>',load_df.shape)\n",
    "                                df={'Id':[],'Link':[],'Title':[],'Storyline':[],'Director':[],'Date':[],'Runtime':[],'Rating':[],'Color':[],'Country':[],'keywords':[]}\n",
    "                                print('File not found Solved')\n",
    "\n",
    "                              i=1\n",
    "                          "
   ]
  }
 ],
 "metadata": {
  "kernelspec": {
   "display_name": "Python 3",
   "language": "python",
   "name": "python3"
  },
  "language_info": {
   "codemirror_mode": {
    "name": "ipython",
    "version": 3
   },
   "file_extension": ".py",
   "mimetype": "text/x-python",
   "name": "python",
   "nbconvert_exporter": "python",
   "pygments_lexer": "ipython3",
   "version": "3.11.5"
  },
  "orig_nbformat": 4
 },
 "nbformat": 4,
 "nbformat_minor": 2
}
