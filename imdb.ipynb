{
 "cells": [
  {
   "cell_type": "code",
   "execution_count": 1,
   "metadata": {},
   "outputs": [],
   "source": [
    "import pandas as pd\n",
    "import requests\n",
    "from bs4 import BeautifulSoup"
   ]
  },
  {
   "cell_type": "code",
   "execution_count": 2,
   "metadata": {},
   "outputs": [],
   "source": [
    "headers = {\n",
    "    \"User-Agent\": \"Mozilla/5.0 (Windows NT 10.0; Win64; x64) AppleWebKit/537.36 (KHTML, like Gecko) Chrome/58.0.3029.110 Safari/537.3\"\n",
    "}"
   ]
  },
  {
   "cell_type": "code",
   "execution_count": 3,
   "metadata": {},
   "outputs": [],
   "source": [
    "path='imdb.csv'\n",
    "#D:\\Jovian data\\data analysis projects\\IMDB\\imdb.csv"
   ]
  },
  {
   "cell_type": "code",
   "execution_count": 4,
   "metadata": {},
   "outputs": [],
   "source": [
    "try:\n",
    "    load_df = pd.read_csv(path,sep=';')\n",
    "    where=load_df['Id'].iloc[-1]\n",
    "    No_zeros=7-len(str(where))\n",
    "    No_zeros\n",
    "    where_final='0'*No_zeros+str(where)\n",
    "    q0=int(where_final[0])\n",
    "    q1=int(where_final[1])\n",
    "    q2=int(where_final[2])\n",
    "    q3=int(where_final[3])\n",
    "    q4=int(where_final[4])\n",
    "    q5=int(where_final[5])\n",
    "    q6=int(where_final[6])\n",
    "except FileNotFoundError:\n",
    "  q0=0\n",
    "  q1=0\n",
    "  q2=0\n",
    "  q3=0\n",
    "  q4=0\n",
    "  q5=0\n",
    "  q6=1"
   ]
  },
  {
   "cell_type": "code",
   "execution_count": 5,
   "metadata": {},
   "outputs": [],
   "source": [
    "#load_df"
   ]
  },
  {
   "cell_type": "code",
   "execution_count": 6,
   "metadata": {},
   "outputs": [
    {
     "name": "stdout",
     "output_type": "stream",
     "text": [
      "0 0 0 0 0 0 1\n"
     ]
    }
   ],
   "source": [
    "print(q0,q1,q2,q3,q4,q5,q6)"
   ]
  },
  {
   "cell_type": "code",
   "execution_count": 7,
   "metadata": {},
   "outputs": [],
   "source": [
    "def keywords(id):\n",
    "    word=''\n",
    "    key_url='https://www.imdb.com/title/tt'+id+'/keywords/'\n",
    "    #https://www.imdb.com/title/tt'+id_+'/'\n",
    "    response_keyword=requests.get(key_url,headers=headers)\n",
    "    content_keyword=response_keyword.content\n",
    "    soup_keyword=BeautifulSoup(content_keyword,'html.parser')\n",
    "    keyword_elements=soup_keyword.find_all('a',class_='ipc-metadata-list-summary-item__t')\n",
    "    for element in keyword_elements:\n",
    "     word += ', ' + element.text\n",
    "    return word[2:len(word)]\n",
    "   "
   ]
  },
  {
   "cell_type": "code",
   "execution_count": 8,
   "metadata": {},
   "outputs": [],
   "source": [
    "def release_info(id):\n",
    "    key_url='https://www.imdb.com/title/tt'+id+'/releaseinfo/'\n",
    "    #https://www.imdb.com/title/tt'+id_+'/'\n",
    "    response_release_info=requests.get(key_url,headers=headers)\n",
    "    content_release_info=response_release_info.content\n",
    "    soup_release_info=BeautifulSoup(content_release_info,'html.parser')\n",
    "    #date=soup_release_info.find('span',class_='ipc-metadata-list-item__list-content-item')\n",
    "    try:\n",
    "     #if soup_release_info.find('article',class_='sc-8eb80a87-0 hQQXzj').text is not None: \n",
    "        # return 'NaN'\n",
    "     date=soup_release_info.find('span',class_='ipc-metadata-list-item__list-content-item')\n",
    "     return date.text    \n",
    "\n",
    "    except:\n",
    "       return 'NaN'  \n",
    "       \n",
    "    \n"
   ]
  },
  {
   "cell_type": "code",
   "execution_count": 7,
   "metadata": {},
   "outputs": [],
   "source": [
    "def runtime(id):\n",
    "    key_url='https://www.imdb.com/title/tt'+id+'/technical/'\n",
    "    #https://www.imdb.com/title/tt'+id_+'/'\n",
    "    response_runtime=requests.get(key_url,headers=headers)\n",
    "    content_runtime=response_runtime.content\n",
    "    soup_runtime=BeautifulSoup(content_runtime,'html.parser')\n",
    "    runtime=soup_runtime.find_all('span',class_='ipc-metadata-list-item__list-content-item--subText')\n",
    "    color=soup_runtime.find_all('a',class_='ipc-metadata-list-item__list-content-item ipc-metadata-list-item__list-content-item--link')\n",
    "    try:\n",
    "     return runtime[0].text,color[1].text\n",
    "    except:\n",
    "        return 'NaN',color[1].text\n",
    "           \n",
    " "
   ]
  },
  {
   "cell_type": "code",
   "execution_count": 8,
   "metadata": {},
   "outputs": [],
   "source": [
    "df={'Id':[],'Title':[],'Storyline':[],'Director':[],'Date':[],'Runtime':[],'Rating':[],'Color':[],'Country':[],'keywords':[]}"
   ]
  },
  {
   "cell_type": "code",
   "execution_count": 10,
   "metadata": {},
   "outputs": [],
   "source": [
    "%%time\n",
    "i=0\n",
    "for q in range(q0,10):\n",
    "    for w in range(q1,10):\n",
    "        for e in range(q2,10):\n",
    "            for r in range(q3,10):\n",
    "                for t in range(q4,10):\n",
    "                    for y in range(q5,10):\n",
    "                        for u in range(q6,10):\n",
    "                          try:  \n",
    "\n",
    "                            id_=str(str(q)+str(w)+str(e)+str(r)+str(t)+str(y)+str(u))\n",
    "                            w_url='https://www.imdb.com/title/tt'+id_+'/'\n",
    "                            response=requests.get(w_url,headers=headers)\n",
    "                            content=response.content\n",
    "                            soup=BeautifulSoup(content,'html.parser')\n",
    "                            Title=soup.find('span',class_='sc-afe43def-1 fDTGTb').text\n",
    "                            try:\n",
    "                             storyline=soup.find_all('div',class_='ipc-html-content-inner-div')[2].text\n",
    "                            except:\n",
    "                                storyline='NaN'\n",
    "\n",
    "                            Director=soup.find_all('a',class_='ipc-metadata-list-item__list-content-item ipc-metadata-list-item__list-content-item--link')[0].text\n",
    "                            Date=release_info(id_)\n",
    "                            Runtime,colr=runtime(id_)\n",
    "                            Rating=(soup.find_all('span',class_='sc-bde20123-1 iZlgcd')[0]).text\n",
    "                            country=soup.find('ul',class_='ipc-inline-list ipc-inline-list--show-dividers ipc-inline-list--inline ipc-metadata-list-item__list-content base')\n",
    "                            df['Country'].append(country)\n",
    "                            key_words=keywords(str(id_))\n",
    "                            i=i+1\n",
    "                            print(i,w_url)\n",
    "                            df['Id'].append(id_)\n",
    "                            df['Title'].append(Title)\n",
    "                            df['Storyline'].append(storyline)\n",
    "                            df['Director'].append(Director)\n",
    "                            df['Date'].append(Date)\n",
    "                            df['Runtime'].append(Runtime)\n",
    "                            df['Color'].append(colr)\n",
    "                            df['Rating'].append(Rating)\n",
    "                            df['keywords'].append(key_words)\n",
    "                            print(df)\n",
    "                            if i==100:\n",
    "                              main_df=pd.DataFrame(df)\n",
    "                              save_df=pd.concat([load_df, main_df], ignore_index=True)\n",
    "                              save_df.to_csv(path,index=False,sep=';',header=True)\n",
    "                              i=0\n",
    "                          except:\n",
    "                            pass\n",
    "                        break    \n",
    "                \n",
    "          \n",
    "       \n",
    "\n",
    "\n",
    "                        "
   ]
  },
  {
   "cell_type": "code",
   "execution_count": 80,
   "metadata": {},
   "outputs": [],
   "source": [
    "def country(soup):\n",
    " r=soup.find_all('li',class_='ipc-metadata-list__item')\n",
    " for r in r:\n",
    "    if 'Country' in r.text.split() :\n",
    "     country=r.text.replace('Country of origin', '')\n",
    "     return country\n",
    "     break\n",
    "   \n",
    "\n",
    "     \n",
    "  "
   ]
  },
  {
   "cell_type": "code",
   "execution_count": 9,
   "metadata": {},
   "outputs": [
    {
     "name": "stdout",
     "output_type": "stream",
     "text": [
      "1 https://www.imdb.com/title/tt0000001/\n",
      "2 https://www.imdb.com/title/tt0000002/\n",
      "3 https://www.imdb.com/title/tt0000003/\n",
      "4 https://www.imdb.com/title/tt0000004/\n",
      "5 https://www.imdb.com/title/tt0000005/\n",
      "6 https://www.imdb.com/title/tt0000006/\n",
      "7 https://www.imdb.com/title/tt0000007/\n",
      "8 https://www.imdb.com/title/tt0000008/\n",
      "9 https://www.imdb.com/title/tt0000009/\n",
      "10 https://www.imdb.com/title/tt0000010/\n",
      "11 https://www.imdb.com/title/tt0000011/\n",
      "12 https://www.imdb.com/title/tt0000012/\n",
      "13 https://www.imdb.com/title/tt0000013/\n",
      "14 https://www.imdb.com/title/tt0000014/\n",
      "15 https://www.imdb.com/title/tt0000015/\n",
      "16 https://www.imdb.com/title/tt0000016/\n",
      "17 https://www.imdb.com/title/tt0000017/\n",
      "18 https://www.imdb.com/title/tt0000018/\n",
      "19 https://www.imdb.com/title/tt0000019/\n",
      "20 https://www.imdb.com/title/tt0000020/\n",
      "21 https://www.imdb.com/title/tt0000021/\n",
      "22 https://www.imdb.com/title/tt0000022/\n",
      "23 https://www.imdb.com/title/tt0000023/\n",
      "24 https://www.imdb.com/title/tt0000024/\n",
      "25 https://www.imdb.com/title/tt0000025/\n",
      "26 https://www.imdb.com/title/tt0000026/\n",
      "27 https://www.imdb.com/title/tt0000027/\n",
      "28 https://www.imdb.com/title/tt0000028/\n",
      "29 https://www.imdb.com/title/tt0000029/\n",
      "30 https://www.imdb.com/title/tt0000030/\n",
      "31 https://www.imdb.com/title/tt0000031/\n",
      "32 https://www.imdb.com/title/tt0000032/\n",
      "33 https://www.imdb.com/title/tt0000033/\n",
      "34 https://www.imdb.com/title/tt0000034/\n",
      "35 https://www.imdb.com/title/tt0000035/\n",
      "36 https://www.imdb.com/title/tt0000036/\n",
      "37 https://www.imdb.com/title/tt0000037/\n",
      "38 https://www.imdb.com/title/tt0000038/\n",
      "39 https://www.imdb.com/title/tt0000039/\n",
      "40 https://www.imdb.com/title/tt0000040/\n",
      "41 https://www.imdb.com/title/tt0000041/\n",
      "42 https://www.imdb.com/title/tt0000042/\n",
      "43 https://www.imdb.com/title/tt0000043/\n",
      "44 https://www.imdb.com/title/tt0000044/\n",
      "45 https://www.imdb.com/title/tt0000045/\n",
      "46 https://www.imdb.com/title/tt0000046/\n",
      "47 https://www.imdb.com/title/tt0000047/\n",
      "48 https://www.imdb.com/title/tt0000048/\n",
      "49 https://www.imdb.com/title/tt0000049/\n",
      "50 https://www.imdb.com/title/tt0000050/\n",
      "51 https://www.imdb.com/title/tt0000051/\n",
      "52 https://www.imdb.com/title/tt0000052/\n",
      "53 https://www.imdb.com/title/tt0000053/\n",
      "54 https://www.imdb.com/title/tt0000054/\n",
      "55 https://www.imdb.com/title/tt0000055/\n",
      "56 https://www.imdb.com/title/tt0000056/\n",
      "57 https://www.imdb.com/title/tt0000057/\n",
      "58 https://www.imdb.com/title/tt0000058/\n",
      "59 https://www.imdb.com/title/tt0000059/\n",
      "60 https://www.imdb.com/title/tt0000060/\n",
      "61 https://www.imdb.com/title/tt0000061/\n",
      "62 https://www.imdb.com/title/tt0000062/\n",
      "63 https://www.imdb.com/title/tt0000063/\n",
      "64 https://www.imdb.com/title/tt0000064/\n",
      "65 https://www.imdb.com/title/tt0000065/\n",
      "66 https://www.imdb.com/title/tt0000066/\n",
      "67 https://www.imdb.com/title/tt0000067/\n",
      "68 https://www.imdb.com/title/tt0000068/\n",
      "69 https://www.imdb.com/title/tt0000069/\n",
      "70 https://www.imdb.com/title/tt0000070/\n"
     ]
    }
   ],
   "source": [
    "%%time\n",
    "i=0\n",
    "for num in range(1,100000000):\n",
    "                          try:\n",
    "                            len_num=7-len(str(num))\n",
    "                            id_='0'*len_num+str(num)\n",
    "\n",
    "                            #id_=str(str(q)+str(w)+str(e)+str(r)+str(t)+str(y)+str(u))\n",
    "                            w_url='https://www.imdb.com/title/tt'+id_+'/'\n",
    "                            response=requests.get(w_url,headers=headers)\n",
    "                            content=response.content\n",
    "                            soup=BeautifulSoup(content,'html.parser')\n",
    "                            Title=soup.find('span',class_='sc-afe43def-1 fDTGTb').text\n",
    "                            try:\n",
    "                             storyline=soup.find_all('div',class_='ipc-html-content-inner-div')[2].text\n",
    "                            except:\n",
    "                                storyline='NaN'\n",
    "\n",
    "                            Director=soup.find_all('a',class_='ipc-metadata-list-item__list-content-item ipc-metadata-list-item__list-content-item--link')[0].text\n",
    "                            Date=release_info(id_)\n",
    "                            Runtime,colr=runtime(id_)\n",
    "                            Rating=(soup.find_all('span',class_='sc-bde20123-1 iZlgcd')[0]).text\n",
    "                            country=country(soup)\n",
    "                            df['Country'].append(country)\n",
    "                            key_words=keywords(str(id_))\n",
    "                            i=i+1\n",
    "                            print(i,w_url)\n",
    "                            df['Id'].append(id_)\n",
    "                            df['Title'].append(Title)\n",
    "                            df['Storyline'].append(storyline)\n",
    "                            df['Director'].append(Director)\n",
    "                            df['Date'].append(Date)\n",
    "                            df['Runtime'].append(Runtime)\n",
    "                            df['Color'].append(colr)\n",
    "                            df['Rating'].append(Rating)\n",
    "                            df['keywords'].append(key_words)\n",
    "                            if i==100:\n",
    "                              main_df=pd.DataFrame(df)\n",
    "                              save_df=pd.concat([load_df, main_df], ignore_index=True)\n",
    "                              save_df.to_csv(path,index=False,sep=';',header=True)\n",
    "                              i=0\n",
    "                          except:\n",
    "                            pass\n",
    "                           \n",
    "                \n",
    "          \n",
    "       \n",
    "\n",
    "\n",
    "                        "
   ]
  },
  {
   "cell_type": "code",
   "execution_count": null,
   "metadata": {},
   "outputs": [
    {
     "ename": "NameError",
     "evalue": "name 'pd' is not defined",
     "output_type": "error",
     "traceback": [
      "\u001b[1;31m---------------------------------------------------------------------------\u001b[0m",
      "\u001b[1;31mNameError\u001b[0m                                 Traceback (most recent call last)",
      "Cell \u001b[1;32mIn[1], line 1\u001b[0m\n\u001b[1;32m----> 1\u001b[0m main_df\u001b[39m=\u001b[39mpd\u001b[39m.\u001b[39mDataFrame(df)\n",
      "\u001b[1;31mNameError\u001b[0m: name 'pd' is not defined"
     ]
    }
   ],
   "source": [
    "main_df=pd.DataFrame(df)"
   ]
  }
 ],
 "metadata": {
  "kernelspec": {
   "display_name": "Python 3",
   "language": "python",
   "name": "python3"
  },
  "language_info": {
   "codemirror_mode": {
    "name": "ipython",
    "version": 3
   },
   "file_extension": ".py",
   "mimetype": "text/x-python",
   "name": "python",
   "nbconvert_exporter": "python",
   "pygments_lexer": "ipython3",
   "version": "3.11.4"
  },
  "orig_nbformat": 4
 },
 "nbformat": 4,
 "nbformat_minor": 2
}
