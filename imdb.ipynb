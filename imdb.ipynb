{
 "cells": [
  {
   "cell_type": "code",
   "execution_count": 42,
   "metadata": {},
   "outputs": [],
   "source": [
    "import pandas as pd\n",
    "import requests\n",
    "from bs4 import BeautifulSoup\n",
    "import time\n"
   ]
  },
  {
   "cell_type": "code",
   "execution_count": 27,
   "metadata": {},
   "outputs": [],
   "source": [
    "headers = {\n",
    "    \"User-Agent\": \"Mozilla/5.0 (Windows NT 10.0; Win64; x64) AppleWebKit/537.36 (KHTML, like Gecko) Chrome/58.0.3029.110 Safari/537.3\"\n",
    "}"
   ]
  },
  {
   "cell_type": "code",
   "execution_count": 28,
   "metadata": {},
   "outputs": [],
   "source": [
    "path='imdb.csv'"
   ]
  },
  {
   "cell_type": "code",
   "execution_count": 29,
   "metadata": {},
   "outputs": [],
   "source": [
    "try:\n",
    "    load_df = pd.read_csv(path,sep=';')\n",
    "    where=load_df['Id'].iloc[-1]+1\n",
    "except:\n",
    "  where=1\n"
   ]
  },
  {
   "cell_type": "code",
   "execution_count": 30,
   "metadata": {},
   "outputs": [],
   "source": [
    "def keywords(id):\n",
    "    word=''\n",
    "    key_url='https://www.imdb.com/title/tt'+id+'/keywords/'\n",
    "    response_keyword=requests.get(key_url,headers=headers)\n",
    "    content_keyword=response_keyword.content\n",
    "    soup_keyword=BeautifulSoup(content_keyword,'html.parser')\n",
    "    keyword_elements=soup_keyword.find_all('a',class_='ipc-metadata-list-summary-item__t')\n",
    "    for element in keyword_elements:\n",
    "     word += ', ' + element.text\n",
    "    #print('keyword')\n",
    "    return word[2:len(word)]"
   ]
  },
  {
   "cell_type": "code",
   "execution_count": 31,
   "metadata": {},
   "outputs": [],
   "source": [
    "def release_info(soup):\n",
    "   date='NaN'\n",
    "   x= soup.find_all('li',class_='ipc-metadata-list__item ipc-metadata-list-item--link')\n",
    "   for r in x:\n",
    "      if 'Release date' in r.text:\n",
    "       date=r.text.replace('Release date','')\n",
    "       break\n",
    "   return date"
   ]
  },
  {
   "cell_type": "code",
   "execution_count": 52,
   "metadata": {},
   "outputs": [],
   "source": [
    "df={'Id':[],'Link':[],'Title':[],'Genres':[],'Director':[],'Cast':[],'Date':[],'Runtime':[],'Rating':[],'Color':[],'Country':[],'keywords':[]}"
   ]
  },
  {
   "cell_type": "code",
   "execution_count": 33,
   "metadata": {},
   "outputs": [],
   "source": [
    "def country(soup):\n",
    "    r_items = soup.find_all('a', class_='ipc-metadata-list-item__list-content-item ipc-metadata-list-item__list-content-item--link')\n",
    "    inde=0\n",
    "    for r in r_items:\n",
    "  \n",
    "      if r.text == 'None':\n",
    "        country_name= r_items[inde-1].text\n",
    "        break\n",
    "      else:\n",
    "        country_name='NaN'\n",
    "      inde=inde+1\n",
    "    return country_name"
   ]
  },
  {
   "cell_type": "code",
   "execution_count": 34,
   "metadata": {},
   "outputs": [],
   "source": [
    "movie_genres = [\"Action\",\"Adventure\",\"Comedy\",\"Drama\",\"Horror\",\"Science Fiction (Sci-Fi)\",\"Fantasy\",\"Romance\",\"Mystery\",\"Crime\",\"Thriller\",\"Animation\",\"Musical\",\"War\",\"Western\",\"Biography\",\"Historical\",\n",
    "    \"Documentary\",\"Family\",\"Sports\",\"Superhero\",\"Musical Comedy\",\"Film Noir\",\"Romantic Comedy (Rom-Com)\",\"Fantasy Adventure\",\"Action Comedy\",\"Psychological Thriller\",\"Science Fantasy\",\n",
    "    \"Epic\",\"Post-Apocalyptic\",\"History\"]"
   ]
  },
  {
   "cell_type": "code",
   "execution_count": 35,
   "metadata": {},
   "outputs": [],
   "source": [
    "def genere_fun(soup):\n",
    " gen_list=' '\n",
    " try:\n",
    "  genres = soup.find_all('span', class_='ipc-chip__text')\n",
    "  for g in  genres:\n",
    "    if g.text in movie_genres:\n",
    "        gen_list=g.text+' '+gen_list\n",
    "  return gen_list \n",
    " except:\n",
    "  return 'NaN'\n",
    "    "
   ]
  },
  {
   "cell_type": "code",
   "execution_count": 36,
   "metadata": {},
   "outputs": [],
   "source": [
    "def runtime_(soup):\n",
    " runtime_test=soup.find_all('li',class_='ipc-metadata-list__item')\n",
    " color='NaN'\n",
    " runtime=\"NaN\"\n",
    " for i in runtime_test:\n",
    "    if 'Runtime' in i.text:\n",
    "     runtime=i.text.replace('Runtime','')   \n",
    "    if 'Color' in i.text:\n",
    "      color=i.text #.replace('Color',' ')\n",
    " return runtime,color"
   ]
  },
  {
   "cell_type": "code",
   "execution_count": 37,
   "metadata": {},
   "outputs": [],
   "source": [
    "def cast(soup):\n",
    "    div_elements=soup.find_all('a',class_='sc-bfec09a1-1 fUguci')\n",
    "    list=[element.text for element in div_elements]\n",
    "    if len(list)>4:\n",
    "        return list[0:6]\n",
    "    else:\n",
    "     return list\n"
   ]
  },
  {
   "cell_type": "code",
   "execution_count": 38,
   "metadata": {},
   "outputs": [
    {
     "name": "stdout",
     "output_type": "stream",
     "text": [
      "https://www.imdb.com/title/tt1517268/\n",
      "['Margot Robbie', 'Ryan Gosling', 'Issa Rae', 'Kate McKinnon', 'Alexandra Shipp', 'Emma Mackey']\n",
      "https://www.imdb.com/title/tt1517267/\n",
      "['Stan Berkowitz', 'Paul Dini', 'Rich Fogel', 'Charles Hatfield', 'Dwayne McDuffie', 'Glen Murakami']\n",
      "https://www.imdb.com/title/tt1517266/\n",
      "[]\n",
      "https://www.imdb.com/title/tt1517265/\n",
      "[]\n",
      "https://www.imdb.com/title/tt1517264/\n",
      "[]\n",
      "https://www.imdb.com/title/tt1517263/\n",
      "['Markus Lanz', 'Alfred Biolek', 'Roger Cicero', 'Hans-Dietrich Genscher', 'Musical Ich war Noch niemals in New York', 'Jenny Jürgens']\n",
      "https://www.imdb.com/title/tt1517262/\n",
      "['Jung-hun Choi', 'Kwon Chul', 'Suk-yun Hong', 'Shoko Ikezu', 'Kamou Junko', 'Jeong-hwa Kim']\n",
      "https://www.imdb.com/title/tt1517261/\n",
      "[]\n",
      "https://www.imdb.com/title/tt1517260/\n",
      "['Saoirse Ronan', 'Max Irons', 'Jake Abel', 'Diane Kruger', 'Rachel Roberts', 'Shyaam Karra']\n",
      "https://www.imdb.com/title/tt1517259/\n",
      "[]\n"
     ]
    }
   ],
   "source": [
    "# function to test all other function\n",
    "\n",
    "where =1517268\n",
    "for num in range(where,where-10,-1):\n",
    "  len_num=7-len(str(num))\n",
    "  id_='0'*len_num+str(num)\n",
    "  w_url='https://www.imdb.com/title/tt'+id_+'/'\n",
    "  response=requests.get(w_url,headers=headers)\n",
    "  content=response.content\n",
    "  soup=BeautifulSoup(content,'html.parser')\n",
    "  #print(w_url,keywords_(soup))\n",
    "  print(w_url)\n",
    "  print(actor(soup))\n",
    "\n",
    "  #break"
   ]
  },
  {
   "cell_type": "code",
   "execution_count": 47,
   "metadata": {},
   "outputs": [
    {
     "name": "stdout",
     "output_type": "stream",
     "text": [
      "1 https://www.imdb.com/title/tt1517268/ << processing\n",
      "2 https://www.imdb.com/title/tt1517269/ << processing\n",
      "3 https://www.imdb.com/title/tt1517270/ << processing\n",
      "4 https://www.imdb.com/title/tt1517271/ << processing\n",
      "5 https://www.imdb.com/title/tt1517272/ << processing\n",
      "6 https://www.imdb.com/title/tt1517273/ << processing\n",
      "7 https://www.imdb.com/title/tt1517274/ << processing\n",
      "8 https://www.imdb.com/title/tt1517275/ << processing\n",
      "9 https://www.imdb.com/title/tt1517276/ << processing\n",
      "10 https://www.imdb.com/title/tt1517277/ << processing\n",
      "11 https://www.imdb.com/title/tt1517278/ << processing\n",
      "12 https://www.imdb.com/title/tt1517279/ << processing\n",
      "13 https://www.imdb.com/title/tt1517280/ << processing\n",
      "14 https://www.imdb.com/title/tt1517281/ << processing\n",
      "15 https://www.imdb.com/title/tt1517282/ << processing\n",
      "16 https://www.imdb.com/title/tt1517283/ << processing\n",
      "17 https://www.imdb.com/title/tt1517284/ << processing\n",
      "18 https://www.imdb.com/title/tt1517285/ << processing\n",
      "19 https://www.imdb.com/title/tt1517286/ << processing\n",
      "20 https://www.imdb.com/title/tt1517287/ << processing\n",
      "21 https://www.imdb.com/title/tt1517288/ << processing\n",
      "22 https://www.imdb.com/title/tt1517289/ << processing\n",
      "23 https://www.imdb.com/title/tt1517290/ << processing\n",
      "24 https://www.imdb.com/title/tt1517291/ << processing\n",
      "25 https://www.imdb.com/title/tt1517292/ << processing\n",
      "26 https://www.imdb.com/title/tt1517293/ << processing\n",
      "27 https://www.imdb.com/title/tt1517294/ << processing\n",
      "28 https://www.imdb.com/title/tt1517295/ << processing\n",
      "29 https://www.imdb.com/title/tt1517296/ << processing\n",
      "30 https://www.imdb.com/title/tt1517297/ << processing\n",
      "31 https://www.imdb.com/title/tt1517298/ << processing\n",
      "32 https://www.imdb.com/title/tt1517299/ << processing\n",
      "33 https://www.imdb.com/title/tt1517300/ << processing\n",
      "34 https://www.imdb.com/title/tt1517301/ << processing\n",
      "35 https://www.imdb.com/title/tt1517302/ << processing\n",
      "36 https://www.imdb.com/title/tt1517303/ << processing\n",
      "37 https://www.imdb.com/title/tt1517304/ << processing\n",
      "38 https://www.imdb.com/title/tt1517305/ << processing\n",
      "39 https://www.imdb.com/title/tt1517306/ << processing\n",
      "40 https://www.imdb.com/title/tt1517307/ << processing\n",
      "41 https://www.imdb.com/title/tt1517308/ << processing\n",
      "42 https://www.imdb.com/title/tt1517309/ << processing\n"
     ]
    },
    {
     "ename": "IndexError",
     "evalue": "list index out of range",
     "output_type": "error",
     "traceback": [
      "\u001b[1;31m---------------------------------------------------------------------------\u001b[0m",
      "\u001b[1;31mIndexError\u001b[0m                                Traceback (most recent call last)",
      "File \u001b[1;32m<timed exec>:17\u001b[0m\n",
      "\u001b[1;31mIndexError\u001b[0m: list index out of range"
     ]
    }
   ],
   "source": [
    "%%time\n",
    "i=1\n",
    "start_time=time.time()\n",
    "for num in range(where,100000000):\n",
    "                            len_num=7-len(str(num))\n",
    "                            id_='0'*len_num+str(num)\n",
    "                            w_url='https://www.imdb.com/title/tt'+id_+'/'\n",
    "                            try:\n",
    "                              response=requests.get(w_url,headers=headers)\n",
    "                              content=response.content\n",
    "                              soup=BeautifulSoup(content,'html.parser')\n",
    "                              Title=soup.find('span',class_='sc-afe43def-1 fDTGTb').text\n",
    "                            except:\n",
    "                              print(i,w_url,'>> Error')\n",
    "                              continue\n",
    "                            print(i,w_url,'<< processing')\n",
    "                            Title=soup.find('span',class_='sc-afe43def-1 fDTGTb').text\n",
    "                            Director=soup.find_all('a',class_='ipc-metadata-list-item__list-content-item ipc-metadata-list-item__list-content-item--link')[0].text\n",
    "                            Date=release_info(soup)\n",
    "                            \n",
    "                            Runtime_,colr=runtime_(soup)\n",
    "                            try:\n",
    "                             Rating=(soup.find_all('span',class_='sc-bde20123-1 iZlgcd')[0]).text\n",
    "                            except:\n",
    "                              Rating=\"NaN\"\n",
    "                            country_=country(soup)\n",
    "                            df['Country'].append(country_)\n",
    "                            key_words=keywords(str(id_))\n",
    "                            i=i+1\n",
    "                            df['Id'].append(id_)\n",
    "                            df['Link'].append(w_url)\n",
    "                            df['Genres'].append(genere_fun(soup))\n",
    "                            df['Title'].append(Title)\n",
    "                            df['Director'].append(Director)\n",
    "                            df['Date'].append(Date)\n",
    "                            df['Runtime'].append(Runtime_)\n",
    "                            df['Color'].append(colr)\n",
    "                            df['Rating'].append(Rating)\n",
    "                            df['Cast'].append(cast(soup))\n",
    "                            df['keywords'].append(key_words)\n",
    "                            if i==100:\n",
    "                              try:\n",
    "                               main_df=pd.DataFrame(df)\n",
    "                               save_df=pd.concat([load_df, main_df], ignore_index=True)\n",
    "                               save_df.to_csv(path,index=False,sep=';',header=True)\n",
    "                               load_df = pd.read_csv(path,sep=';')\n",
    "                               print('>>',load_df.shape)\n",
    "                               df={'Id':[],'Link':[],'Title':[],'Genres':[],'Director':[],'Cast':[],'Date':[],'Runtime':[],'Rating':[],'Color':[],'Country':[],'keywords':[]}\n",
    "                               end_time=time.time()\n",
    "                               print('>>Time', (end_time-start_time)/100)\n",
    "                               start_time=time.time()\n",
    "                              except:\n",
    "                                main_df=pd.DataFrame(df)\n",
    "                                save_df=main_df\n",
    "                                save_df.to_csv(path,index=False,sep=';',header=True)\n",
    "                                load_df = pd.read_csv(path,sep=';')\n",
    "                                print('>>',load_df.shape)\n",
    "                                df={'Id':[],'Link':[],'Title':[],'Genres':[],'Director':[],'Cast':[],'Date':[],'Runtime':[],'Rating':[],'Color':[],'Country':[],'keywords':[]}\n",
    "                                print('File not found Solved')\n",
    "\n",
    "                              i=1\n",
    "                          "
   ]
  },
  {
   "cell_type": "code",
   "execution_count": 51,
   "metadata": {},
   "outputs": [
    {
     "name": "stdout",
     "output_type": "stream",
     "text": [
      "{'Id': 41, 'Link': 41, 'Title': 41, 'Storyline': 0, 'Genres': 41, 'Director': 41, 'Cast': 41, 'Date': 41, 'Runtime': 41, 'Rating': 41, 'Color': 41, 'Country': 41, 'keywords': 41}\n"
     ]
    }
   ],
   "source": [
    "rf={}\n",
    "for key in df:\n",
    "    rf[key]=len(df[key])\n",
    "print(rf)"
   ]
  }
 ],
 "metadata": {
  "kernelspec": {
   "display_name": "Python 3",
   "language": "python",
   "name": "python3"
  },
  "language_info": {
   "codemirror_mode": {
    "name": "ipython",
    "version": 3
   },
   "file_extension": ".py",
   "mimetype": "text/x-python",
   "name": "python",
   "nbconvert_exporter": "python",
   "pygments_lexer": "ipython3",
   "version": "3.11.5"
  },
  "orig_nbformat": 4
 },
 "nbformat": 4,
 "nbformat_minor": 2
}
