{
 "cells": [
  {
   "cell_type": "code",
   "execution_count": 159,
   "metadata": {},
   "outputs": [],
   "source": [
    "import pandas as pd\n",
    "import requests\n",
    "from bs4 import BeautifulSoup"
   ]
  },
  {
   "cell_type": "code",
   "execution_count": 160,
   "metadata": {},
   "outputs": [],
   "source": [
    "url='https://www.imdb.com/chart/top/'"
   ]
  },
  {
   "cell_type": "code",
   "execution_count": 161,
   "metadata": {},
   "outputs": [],
   "source": [
    "headers = {\n",
    "    \"User-Agent\": \"Mozilla/5.0 (Windows NT 10.0; Win64; x64) AppleWebKit/537.36 (KHTML, like Gecko) Chrome/58.0.3029.110 Safari/537.3\"\n",
    "}\n",
    "response=requests.get(url,headers=headers)\n",
    "content=response.content"
   ]
  },
  {
   "cell_type": "code",
   "execution_count": 162,
   "metadata": {},
   "outputs": [],
   "source": [
    "soup=BeautifulSoup(content,'html.parser')"
   ]
  },
  {
   "cell_type": "code",
   "execution_count": 163,
   "metadata": {},
   "outputs": [],
   "source": [
    "#hyper_l=soup.find_all('class':'ipc-title-link-wrapper','a')\n",
    "hyper_l=soup.find_all('a', class_='ipc-title-link-wrapper')"
   ]
  },
  {
   "cell_type": "code",
   "execution_count": 164,
   "metadata": {},
   "outputs": [],
   "source": [
    "def keywords(id):\n",
    "    word=''\n",
    "    key_url='https://www.imdb.com/title/tt'+id+'/keywords/'\n",
    "    #https://www.imdb.com/title/tt'+id_+'/'\n",
    "    response_keyword=requests.get(key_url,headers=headers)\n",
    "    content_keyword=response_keyword.content\n",
    "    soup_keyword=BeautifulSoup(content_keyword,'html.parser')\n",
    "    keyword_elements=soup_keyword.find_all('a',class_='ipc-metadata-list-summary-item__t')\n",
    "    for element in keyword_elements:\n",
    "     word += ', ' + element.text\n",
    "    return word[2:len(word)]\n",
    "   "
   ]
  },
  {
   "cell_type": "code",
   "execution_count": 165,
   "metadata": {},
   "outputs": [],
   "source": [
    "def release_info(id):\n",
    "    key_url='https://www.imdb.com/title/tt'+id+'/releaseinfo/'\n",
    "    #https://www.imdb.com/title/tt'+id_+'/'\n",
    "    response_release_info=requests.get(key_url,headers=headers)\n",
    "    content_release_info=response_release_info.content\n",
    "    soup_release_info=BeautifulSoup(content_release_info,'html.parser')\n",
    "    date=soup_release_info.find('span',class_='ipc-metadata-list-item__list-content-item')\n",
    "    try:\n",
    "     if soup_release_info.find('article',class_='sc-8eb80a87-0 hQQXzj').text is not None: \n",
    "         return 'NaN'\n",
    "\n",
    "    except:\n",
    "       return date.text    \n",
    "       \n",
    "    \n"
   ]
  },
  {
   "cell_type": "code",
   "execution_count": 166,
   "metadata": {},
   "outputs": [],
   "source": [
    "def runtime(id):\n",
    "    key_url='https://www.imdb.com/title/tt'+id+'/technical/'\n",
    "    #https://www.imdb.com/title/tt'+id_+'/'\n",
    "    response_runtime=requests.get(key_url,headers=headers)\n",
    "    content_runtime=response_runtime.content\n",
    "    soup_runtime=BeautifulSoup(content_runtime,'html.parser')\n",
    "    runtime=soup_runtime.find_all('span',class_='ipc-metadata-list-item__list-content-item--subText')\n",
    "    color=soup_runtime.find_all('a',class_='ipc-metadata-list-item__list-content-item ipc-metadata-list-item__list-content-item--link')\n",
    "    print(color[1].text)\n",
    "    try:\n",
    "     return runtime[0].text,color[1].text\n",
    "    except:\n",
    "        return 'NaN',color[1].text\n",
    "           \n",
    " "
   ]
  },
  {
   "cell_type": "code",
   "execution_count": 167,
   "metadata": {},
   "outputs": [
    {
     "name": "stdout",
     "output_type": "stream",
     "text": [
      "Color\n"
     ]
    },
    {
     "data": {
      "text/plain": [
       "('(114 min)', 'Color')"
      ]
     },
     "execution_count": 167,
     "metadata": {},
     "output_type": "execute_result"
    }
   ],
   "source": [
    "runtime('1517268')"
   ]
  },
  {
   "cell_type": "code",
   "execution_count": 168,
   "metadata": {},
   "outputs": [],
   "source": [
    "df={'Id':[],'Title':[],'Storyline':[],'Director':[],'Date':[],'Runtime':[],'Rating':[],'Color':[],'Country':[],'keywords':[]}"
   ]
  },
  {
   "cell_type": "code",
   "execution_count": 173,
   "metadata": {},
   "outputs": [
    {
     "ename": "IndentationError",
     "evalue": "unindent does not match any outer indentation level (<tokenize>, line 40)",
     "output_type": "error",
     "traceback": [
      "Traceback \u001b[1;36m(most recent call last)\u001b[0m:\n",
      "\u001b[0m  File \u001b[0;32m~\\AppData\\Local\\Packages\\PythonSoftwareFoundation.Python.3.11_qbz5n2kfra8p0\\LocalCache\\local-packages\\Python311\\site-packages\\IPython\\core\\interactiveshell.py:3508\u001b[0m in \u001b[0;35mrun_code\u001b[0m\n    exec(code_obj, self.user_global_ns, self.user_ns)\u001b[0m\n",
      "\u001b[0m  Cell \u001b[0;32mIn[173], line 1\u001b[0m\n    get_ipython().run_cell_magic('time', '', \"i=0\\nfor q in range(0,10):\\n    for w in range(0,10):\\n        for e in range(0,10):\\n            for r in range(0,10):\\n                for t in range(0,10):\\n                    for y in range(0,10):\\n                        for u in range(0,10):\\n                          try:  \\n\\n                            id_=str(q)+str(w)+str(e)+str(r)+str(t)+str(y)+str(u)\\n                            w_url='https://www.imdb.com/title/tt'+id_+'/'\\n                            response=requests.get(w_url,headers=headers)\\n                            content=response.content\\n                            soup=BeautifulSoup(content,'html.parser')\\n                            Title=soup.find('span',class_='sc-afe43def-1 fDTGTb').text\\n                            try:\\n                             storyline=soup.find_all('div',class_='ipc-html-content-inner-div')[2].text\\n                            except:\\n                                storyline='NaN'\\n\\n                            Director=soup.find_all('a',class_='ipc-metadata-list-item__list-content-item ipc-metadata-list-item__list-content-item--link')[0].text\\n                            Date=release_info(id_)\\n                            Runtime,colr=runtime(id_)\\n                            Rating=(soup.find_all('span',class_='sc-bde20123-1 iZlgcd')[0]).text\\n                            country=soup.find('ul',class_='ipc-inline-list ipc-inline-list--show-dividers ipc-inline-list--inline ipc-metadata-list-item__list-content base')\\n                            df['Country'].append(country)\\n                            key_words=keywords(str(id_))\\n                            i=i+1\\n                            print(i,w_url)\\n                            df['Id'].append(id_)\\n                            df['Title'].append(Title)\\n                            df['Storyline'].append(storyline)\\n                            df['Director'].append(Director)\\n                            df['Date'].append(Date)\\n                            df['Runtime'].append(Runtime)\\n                            df['Color'].append(colr)\\n                            df['Rating'].append(Rating)\\n                            df['keywords'].append(key_words)\\n                         except:\\n                            pass\\n                            \\n                            \\n                                         \\n                    break\\n                break\\n            break\\n        break\\n    break\\n\\n\\n                        \\n\")\u001b[0m\n",
      "\u001b[0m  File \u001b[0;32m~\\AppData\\Local\\Packages\\PythonSoftwareFoundation.Python.3.11_qbz5n2kfra8p0\\LocalCache\\local-packages\\Python311\\site-packages\\IPython\\core\\interactiveshell.py:2478\u001b[0m in \u001b[0;35mrun_cell_magic\u001b[0m\n    result = fn(*args, **kwargs)\u001b[0m\n",
      "\u001b[0m  File \u001b[0;32m~\\AppData\\Local\\Packages\\PythonSoftwareFoundation.Python.3.11_qbz5n2kfra8p0\\LocalCache\\local-packages\\Python311\\site-packages\\IPython\\core\\magics\\execution.py:1273\u001b[0m in \u001b[0;35mtime\u001b[0m\n    expr = self.shell.transform_cell(cell)\u001b[0m\n",
      "\u001b[0m  File \u001b[0;32m~\\AppData\\Local\\Packages\\PythonSoftwareFoundation.Python.3.11_qbz5n2kfra8p0\\LocalCache\\local-packages\\Python311\\site-packages\\IPython\\core\\interactiveshell.py:3302\u001b[0m in \u001b[0;35mtransform_cell\u001b[0m\n    cell = self.input_transformer_manager.transform_cell(raw_cell)\u001b[0m\n",
      "\u001b[0m  File \u001b[0;32m~\\AppData\\Local\\Packages\\PythonSoftwareFoundation.Python.3.11_qbz5n2kfra8p0\\LocalCache\\local-packages\\Python311\\site-packages\\IPython\\core\\inputtransformer2.py:639\u001b[0m in \u001b[0;35mtransform_cell\u001b[0m\n    lines = self.do_token_transforms(lines)\u001b[0m\n",
      "\u001b[0m  File \u001b[0;32m~\\AppData\\Local\\Packages\\PythonSoftwareFoundation.Python.3.11_qbz5n2kfra8p0\\LocalCache\\local-packages\\Python311\\site-packages\\IPython\\core\\inputtransformer2.py:624\u001b[0m in \u001b[0;35mdo_token_transforms\u001b[0m\n    changed, lines = self.do_one_token_transform(lines)\u001b[0m\n",
      "\u001b[0m  File \u001b[0;32m~\\AppData\\Local\\Packages\\PythonSoftwareFoundation.Python.3.11_qbz5n2kfra8p0\\LocalCache\\local-packages\\Python311\\site-packages\\IPython\\core\\inputtransformer2.py:604\u001b[0m in \u001b[0;35mdo_one_token_transform\u001b[0m\n    tokens_by_line = make_tokens_by_line(lines)\u001b[0m\n",
      "\u001b[0m  File \u001b[0;32m~\\AppData\\Local\\Packages\\PythonSoftwareFoundation.Python.3.11_qbz5n2kfra8p0\\LocalCache\\local-packages\\Python311\\site-packages\\IPython\\core\\inputtransformer2.py:514\u001b[0m in \u001b[0;35mmake_tokens_by_line\u001b[0m\n    for token in tokenize.generate_tokens(iter(lines).__next__):\u001b[0m\n",
      "\u001b[1;36m  File \u001b[1;32mC:\\Program Files\\WindowsApps\\PythonSoftwareFoundation.Python.3.11_3.11.1264.0_x64__qbz5n2kfra8p0\\Lib\\tokenize.py:516\u001b[1;36m in \u001b[1;35m_tokenize\u001b[1;36m\n\u001b[1;33m    raise IndentationError(\u001b[1;36m\n",
      "\u001b[1;36m  File \u001b[1;32m<tokenize>:40\u001b[1;36m\u001b[0m\n\u001b[1;33m    except:\u001b[0m\n\u001b[1;37m    ^\u001b[0m\n\u001b[1;31mIndentationError\u001b[0m\u001b[1;31m:\u001b[0m unindent does not match any outer indentation level\n"
     ]
    }
   ],
   "source": [
    "%%time\n",
    "i=0\n",
    "for q in range(0,10):\n",
    "    for w in range(0,10):\n",
    "        for e in range(0,10):\n",
    "            for r in range(0,10):\n",
    "                for t in range(0,10):\n",
    "                    for y in range(0,10):\n",
    "                        for u in range(0,10):\n",
    "                          try:  \n",
    "\n",
    "                            id_=str(q)+str(w)+str(e)+str(r)+str(t)+str(y)+str(u)\n",
    "                            w_url='https://www.imdb.com/title/tt'+id_+'/'\n",
    "                            response=requests.get(w_url,headers=headers)\n",
    "                            content=response.content\n",
    "                            soup=BeautifulSoup(content,'html.parser')\n",
    "                            Title=soup.find('span',class_='sc-afe43def-1 fDTGTb').text\n",
    "                            try:\n",
    "                             storyline=soup.find_all('div',class_='ipc-html-content-inner-div')[2].text\n",
    "                            except:\n",
    "                                storyline='NaN'\n",
    "\n",
    "                            Director=soup.find_all('a',class_='ipc-metadata-list-item__list-content-item ipc-metadata-list-item__list-content-item--link')[0].text\n",
    "                            Date=release_info(id_)\n",
    "                            Runtime,colr=runtime(id_)\n",
    "                            Rating=(soup.find_all('span',class_='sc-bde20123-1 iZlgcd')[0]).text\n",
    "                            country=soup.find('ul',class_='ipc-inline-list ipc-inline-list--show-dividers ipc-inline-list--inline ipc-metadata-list-item__list-content base')\n",
    "                            df['Country'].append(country)\n",
    "                            key_words=keywords(str(id_))\n",
    "                            i=i+1\n",
    "                            print(i,w_url)\n",
    "                            df['Id'].append(id_)\n",
    "                            df['Title'].append(Title)\n",
    "                            df['Storyline'].append(storyline)\n",
    "                            df['Director'].append(Director)\n",
    "                            df['Date'].append(Date)\n",
    "                            df['Runtime'].append(Runtime)\n",
    "                            df['Color'].append(colr)\n",
    "                            df['Rating'].append(Rating)\n",
    "                            df['keywords'].append(key_words)\n",
    "                          except:\n",
    "                            pass\n",
    "                            \n",
    "                            \n",
    "                                         \n",
    "                    break\n",
    "                break\n",
    "            break\n",
    "        break\n",
    "    break\n",
    "\n",
    "\n",
    "                        "
   ]
  },
  {
   "cell_type": "code",
   "execution_count": 170,
   "metadata": {},
   "outputs": [],
   "source": [
    "colr=soup.find_all('a',class_='ipc-metadata-list-item__list-content-item ipc-metadata-list-item__list-content-item--link')"
   ]
  },
  {
   "cell_type": "code",
   "execution_count": 171,
   "metadata": {},
   "outputs": [
    {
     "data": {
      "text/plain": [
       "[<a aria-disabled=\"false\" class=\"ipc-metadata-list-item__list-content-item ipc-metadata-list-item__list-content-item--link\" href=\"/name/nm0617588/?ref_=tt_ov_dr\" role=\"button\" tabindex=\"0\">Georges Méliès</a>,\n",
       " <a aria-disabled=\"false\" class=\"ipc-metadata-list-item__list-content-item ipc-metadata-list-item__list-content-item--link\" href=\"/name/nm0617588/?ref_=tt_ov_dr\" role=\"button\" tabindex=\"0\">Georges Méliès</a>,\n",
       " <a aria-disabled=\"false\" class=\"ipc-metadata-list-item__list-content-item ipc-metadata-list-item__list-content-item--link\" href=\"/search/title/?country_of_origin=FR&amp;ref_=tt_dt_cn\" role=\"button\" tabindex=\"0\">France</a>,\n",
       " <a aria-disabled=\"false\" class=\"ipc-metadata-list-item__list-content-item ipc-metadata-list-item__list-content-item--link\" href=\"/search/title?title_type=feature&amp;primary_language=zxx&amp;sort=moviemeter,asc&amp;ref_=tt_dt_ln\" role=\"button\" tabindex=\"0\">None</a>,\n",
       " <a aria-disabled=\"false\" class=\"ipc-metadata-list-item__list-content-item ipc-metadata-list-item__list-content-item--link\" href=\"/search/title/?colors=black_and_white&amp;ref_=tt_spec_att\" role=\"button\" tabindex=\"0\">Black and White</a>,\n",
       " <a aria-disabled=\"false\" class=\"ipc-metadata-list-item__list-content-item ipc-metadata-list-item__list-content-item--link\" href=\"/search/title/?sound_mixes=silent&amp;ref_=tt_spec_att\" role=\"button\" tabindex=\"0\">Silent</a>]"
      ]
     },
     "execution_count": 171,
     "metadata": {},
     "output_type": "execute_result"
    }
   ],
   "source": [
    "colr"
   ]
  },
  {
   "cell_type": "code",
   "execution_count": 172,
   "metadata": {},
   "outputs": [],
   "source": [
    "main_df=pd.DataFrame(df)"
   ]
  }
 ],
 "metadata": {
  "kernelspec": {
   "display_name": "Python 3",
   "language": "python",
   "name": "python3"
  },
  "language_info": {
   "codemirror_mode": {
    "name": "ipython",
    "version": 3
   },
   "file_extension": ".py",
   "mimetype": "text/x-python",
   "name": "python",
   "nbconvert_exporter": "python",
   "pygments_lexer": "ipython3",
   "version": "3.11.4"
  },
  "orig_nbformat": 4
 },
 "nbformat": 4,
 "nbformat_minor": 2
}
