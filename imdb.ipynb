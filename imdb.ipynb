{
 "cells": [
  {
   "cell_type": "code",
   "execution_count": 36,
   "metadata": {},
   "outputs": [],
   "source": [
    "import requests\n",
    "from bs4 import BeautifulSoup"
   ]
  },
  {
   "cell_type": "code",
   "execution_count": 37,
   "metadata": {},
   "outputs": [],
   "source": [
    "url='https://www.imdb.com/chart/top/'"
   ]
  },
  {
   "cell_type": "code",
   "execution_count": 43,
   "metadata": {},
   "outputs": [],
   "source": [
    "headers = {\n",
    "    \"User-Agent\": \"Mozilla/5.0 (Windows NT 10.0; Win64; x64) AppleWebKit/537.36 (KHTML, like Gecko) Chrome/58.0.3029.110 Safari/537.3\"\n",
    "}\n",
    "response=requests.get(url,headers=headers)\n",
    "content=response.content"
   ]
  },
  {
   "cell_type": "code",
   "execution_count": 44,
   "metadata": {},
   "outputs": [],
   "source": [
    "soup=BeautifulSoup(content,'html.parser')"
   ]
  },
  {
   "cell_type": "code",
   "execution_count": 59,
   "metadata": {},
   "outputs": [],
   "source": [
    "#hyper_l=soup.find_all('class':'ipc-title-link-wrapper','a')\n",
    "hyper_l=soup.find_all('a', class_='ipc-title-link-wrapper')"
   ]
  },
  {
   "cell_type": "code",
   "execution_count": 68,
   "metadata": {},
   "outputs": [],
   "source": [
    "href_list=[a.get('href') for a in hyper_l if str(a.get('href')).split('/')[1]!='chart' ] "
   ]
  },
  {
   "cell_type": "code",
   "execution_count": 181,
   "metadata": {},
   "outputs": [
    {
     "name": "stdout",
     "output_type": "stream",
     "text": [
      "1 https://www.imdb.com/title/tt0000004/\n"
     ]
    }
   ],
   "source": [
    "i=0\n",
    "for q in range(0,9):\n",
    "    for w in range(0,9):\n",
    "        for e in range(0,9):\n",
    "            for r in range(0,9):\n",
    "                for t in range(0,9):\n",
    "                    for y in range(0,9):\n",
    "                        for u in range(4,9):\n",
    "                            w_url='https://www.imdb.com/title/tt'+str(q)+str(w)+str(e)+str(r)+str(t)+str(y)+str(u)+'/'\n",
    "                            response=requests.get(w_url,headers=headers)\n",
    "                            content=response.content\n",
    "                            soup=BeautifulSoup(content,'html.parser')\n",
    "                            title=soup.find('span',class_='sc-afe43def-1 fDTGTb').text\n",
    "                            try:\n",
    "                             storyline=soup.find_all('div',class_='ipc-html-content-inner-div')[2].text\n",
    "                            except:\n",
    "                                storyline='NaN'\n",
    "\n",
    "                            Director=soup.find_all('a',class_='ipc-metadata-list-item__list-content-item ipc-metadata-list-item__list-content-item--link')[0].text\n",
    "                            i=i+1\n",
    "                            print(i,w_url)\n",
    "                        \n",
    "                            break\n",
    "                        break                   \n",
    "                    break\n",
    "                break\n",
    "            break\n",
    "        break\n",
    "    break\n",
    "\n",
    "\n",
    "                        "
   ]
  },
  {
   "cell_type": "code",
   "execution_count": 216,
   "metadata": {},
   "outputs": [
    {
     "name": "stdout",
     "output_type": "stream",
     "text": [
      "['October', '28,', '1892']\n"
     ]
    }
   ],
   "source": [
    "Date=soup.find_all('ul',class_='ipc-metadata-list ipc-metadata-list--dividers-all ipc-metadata-list--base')\n",
    "Date=(Date[0].text.strip('Release date')).split(' ')\n",
    "print(Date[0:3])"
   ]
  },
  {
   "cell_type": "code",
   "execution_count": 213,
   "metadata": {},
   "outputs": [
    {
     "name": "stdout",
     "output_type": "stream",
     "text": [
      "October\n",
      "28,\n",
      "1892\n",
      "(France)Country\n",
      "of\n",
      "originFranceLanguageNoneAlso\n",
      "known\n",
      "asПолная\n",
      "кружка\n",
      "пиваSee\n",
      "more\n",
      "company\n",
      "credits\n",
      "at\n",
      "IMDbPro\n"
     ]
    }
   ],
   "source": [
    "for d in Date.split(' '):\n",
    "    print(d)"
   ]
  },
  {
   "cell_type": "code",
   "execution_count": 156,
   "metadata": {},
   "outputs": [
    {
     "data": {
      "text/plain": [
       "[]"
      ]
     },
     "execution_count": 156,
     "metadata": {},
     "output_type": "execute_result"
    }
   ],
   "source": [
    "soup.find_all('div',class_='ipc-overflowText ipc-overflowText--pageSection ipc-overflowText--base') #ipc-html-content-inner-div"
   ]
  },
  {
   "cell_type": "code",
   "execution_count": 139,
   "metadata": {},
   "outputs": [
    {
     "name": "stdout",
     "output_type": "stream",
     "text": [
      "[<a aria-disabled=\"false\" class=\"ipc-metadata-list-item__list-content-item ipc-metadata-list-item__list-content-item--link\" href=\"/name/nm0005690/?ref_=tt_ov_dr\" role=\"button\" tabindex=\"0\">William K.L. Dickson</a>, <a aria-disabled=\"false\" class=\"ipc-metadata-list-item__list-content-item ipc-metadata-list-item__list-content-item--link\" href=\"/name/nm1588970/?ref_=tt_ov_st\" role=\"button\" tabindex=\"0\">Carmencita</a>, <a aria-disabled=\"false\" class=\"ipc-metadata-list-item__list-content-item ipc-metadata-list-item__list-content-item--link\" href=\"/name/nm0005690/?ref_=tt_ov_dr\" role=\"button\" tabindex=\"0\">William K.L. Dickson</a>, <a aria-disabled=\"false\" class=\"ipc-metadata-list-item__list-content-item ipc-metadata-list-item__list-content-item--link\" href=\"/name/nm1588970/?ref_=tt_ov_st\" role=\"button\" tabindex=\"0\">Carmencita</a>, <a aria-disabled=\"false\" class=\"ipc-metadata-list-item__list-content-item ipc-metadata-list-item__list-content-item--link\" href=\"/name/nm0005690/?ref_=tt_cl_dr_1\" role=\"button\" tabindex=\"0\">William K.L. Dickson</a>, <a aria-disabled=\"false\" class=\"ipc-metadata-list-item__list-content-item ipc-metadata-list-item__list-content-item--link\" href=\"/title/tt0000001/releaseinfo?ref_=tt_dt_rdat\" role=\"button\" tabindex=\"0\">March 10, 1894 (United States)</a>, <a aria-disabled=\"false\" class=\"ipc-metadata-list-item__list-content-item ipc-metadata-list-item__list-content-item--link\" href=\"/search/title/?country_of_origin=US&amp;ref_=tt_dt_cn\" role=\"button\" tabindex=\"0\">United States</a>, <a aria-disabled=\"false\" class=\"ipc-metadata-list-item__list-content-item ipc-metadata-list-item__list-content-item--link\" href=\"/search/title?title_type=feature&amp;primary_language=zxx&amp;sort=moviemeter,asc&amp;ref_=tt_dt_ln\" role=\"button\" tabindex=\"0\">None</a>, <a aria-disabled=\"false\" class=\"ipc-metadata-list-item__list-content-item ipc-metadata-list-item__list-content-item--link\" href=\"/search/title?locations=West%20Orange%2C%20New%20Jersey%2C%20USA&amp;ref_=tt_dt_loc\" role=\"button\" tabindex=\"0\">West Orange, New Jersey, USA</a>, <a aria-disabled=\"false\" class=\"ipc-metadata-list-item__list-content-item ipc-metadata-list-item__list-content-item--link\" href=\"/company/co0037035?ref_=tt_dt_co_1\" role=\"button\" tabindex=\"0\">Edison Manufacturing Company</a>, <a aria-disabled=\"false\" class=\"ipc-metadata-list-item__list-content-item ipc-metadata-list-item__list-content-item--link\" href=\"/search/title/?colors=black_and_white&amp;ref_=tt_spec_att\" role=\"button\" tabindex=\"0\">Black and White</a>, <a aria-disabled=\"false\" class=\"ipc-metadata-list-item__list-content-item ipc-metadata-list-item__list-content-item--link\" href=\"/search/title/?sound_mixes=silent&amp;ref_=tt_spec_att\" role=\"button\" tabindex=\"0\">Silent</a>]\n"
     ]
    }
   ],
   "source": [
    "Date=soup.find_all('a',class_='ipc-metadata-list-item__list-content-item ipc-metadata-list-item__list-content-item--link')\n",
    "print(Date)"
   ]
  },
  {
   "cell_type": "code",
   "execution_count": 141,
   "metadata": {},
   "outputs": [
    {
     "name": "stdout",
     "output_type": "stream",
     "text": [
      "12\n",
      "William K.L. Dickson\n",
      "Carmencita\n",
      "William K.L. Dickson\n",
      "Carmencita\n",
      "William K.L. Dickson\n",
      "March 10, 1894 (United States)\n",
      "United States\n",
      "None\n",
      "West Orange, New Jersey, USA\n",
      "Edison Manufacturing Company\n",
      "Black and White\n",
      "Silent\n"
     ]
    }
   ],
   "source": [
    "print(len(Date))\n",
    "for g in Date:\n",
    "    print(g.text)"
   ]
  }
 ],
 "metadata": {
  "kernelspec": {
   "display_name": "Python 3",
   "language": "python",
   "name": "python3"
  },
  "language_info": {
   "codemirror_mode": {
    "name": "ipython",
    "version": 3
   },
   "file_extension": ".py",
   "mimetype": "text/x-python",
   "name": "python",
   "nbconvert_exporter": "python",
   "pygments_lexer": "ipython3",
   "version": "3.11.4"
  },
  "orig_nbformat": 4
 },
 "nbformat": 4,
 "nbformat_minor": 2
}
